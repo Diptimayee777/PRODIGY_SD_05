{
 "cells": [
  {
   "cell_type": "code",
   "execution_count": 6,
   "metadata": {},
   "outputs": [],
   "source": [
    "\n",
    "\n",
    "    try:\n",
    "        review_count = soup.find(\"span\", attrs={'id': 'acrCustomerReviewText'}).string.strip().replace(',', '')\n",
    "    except AttributeError:\n",
    "        review_count = \"NA\"\n",
    "    print(\"Total reviews = \", review_count)import requests\n",
    "from bs4 import BeautifulSoup\n",
    "\n",
    "def main(URL):\n",
    "    File = open(\"out.csv\", \"a\")\n",
    "    HEADERS = ({'User-Agent': 'Mozilla/5.0 (Windows NT 10.0; Win64; x64) AppleWebKit/537.36 (KHTML, like Gecko) Chrome/126.0.0.0 Safari/537.36', 'Accept-Language': 'en-US, en;q=0.5'})\n",
    "    webpage = requests.get(URL, headers=HEADERS)\n",
    "    soup = BeautifulSoup(webpage.content, \"lxml\")\n",
    "\n",
    "    try:\n",
    "        title = soup.find(\"span\", attrs={\"id\": 'productTitle'})\n",
    "        title_value = title.string\n",
    "        title_string = title_value.strip().replace(',', '')\n",
    "    except AttributeError:\n",
    "        title_string = \"NA\"\n",
    "    print(\"product Title = \", title_string)\n",
    "    File.write(f\"{title_string},\")\n",
    "\n",
    "    try:\n",
    "        price = soup.find(\"span\", attrs={'id': 'priceblock_ourprice'}).string.strip().replace(',', '')\n",
    "    except AttributeError:\n",
    "        price = \"NA\"\n",
    "    print(\"Products price = \", price)\n",
    "    File.write(f\"{price},\")\n",
    "\n",
    "    try:\n",
    "        rating = soup.find(\"i\", attrs={'class': 'a-icon a-icon-star a-star-4-5'}).string.strip().replace(',', '')\n",
    "    except AttributeError:\n",
    "        try:\n",
    "            rating = soup.find(\"span\", attrs={'class': 'a-icon-alt'}).string.strip().replace(',', '')\n",
    "        except:\n",
    "            rating = \"NA\"\n",
    "    print(\"Overall rating = \", rating)\n",
    "    File.write(f\"{rating},\")\n",
    "    File.write(f\"{review_count},\")\n",
    "    File.close()\n",
    "\n",
    "if __name__ == '_main_':\n",
    "    file = open(\"url.txt\", \"r\")\n",
    "    for links in file.readlines():\n",
    "        main(links)"
   ]
  }
 ],
 "metadata": {
  "kernelspec": {
   "display_name": "Python 3",
   "language": "python",
   "name": "python3"
  },
  "language_info": {
   "codemirror_mode": {
    "name": "ipython",
    "version": 3
   },
   "file_extension": ".py",
   "mimetype": "text/x-python",
   "name": "python",
   "nbconvert_exporter": "python",
   "pygments_lexer": "ipython3",
   "version": "3.11.4"
  }
 },
 "nbformat": 4,
 "nbformat_minor": 2
}
